{
  "cells": [
    {
      "cell_type": "code",
      "execution_count": null,
      "metadata": {
        "id": "7yuJj-MoT7Vr",
        "colab": {
          "base_uri": "https://localhost:8080/"
        },
        "outputId": "922b786d-7ab4-4815-b89e-7951911322d1"
      },
      "outputs": [
        {
          "output_type": "stream",
          "name": "stdout",
          "text": [
            "Cloning into 'sort'...\n",
            "remote: Enumerating objects: 208, done.\u001b[K\n",
            "remote: Counting objects: 100% (6/6), done.\u001b[K\n",
            "remote: Compressing objects: 100% (5/5), done.\u001b[K\n",
            "remote: Total 208 (delta 2), reused 2 (delta 1), pack-reused 202\u001b[K\n",
            "Receiving objects: 100% (208/208), 1.20 MiB | 13.56 MiB/s, done.\n",
            "Resolving deltas: 100% (74/74), done.\n",
            "/content/sort\n"
          ]
        }
      ],
      "source": [
        "!git clone https://github.com/abewley/sort.git\n",
        "%cd sort"
      ]
    },
    {
      "cell_type": "code",
      "execution_count": null,
      "metadata": {
        "colab": {
          "base_uri": "https://localhost:8080/"
        },
        "id": "nzUToGcOa07S",
        "outputId": "e0b254a5-877b-4942-ddb4-ac9e06967e34"
      },
      "outputs": [
        {
          "output_type": "stream",
          "name": "stdout",
          "text": [
            "Requirement already satisfied: matplotlib in /usr/local/lib/python3.10/dist-packages (3.7.1)\n",
            "Requirement already satisfied: contourpy>=1.0.1 in /usr/local/lib/python3.10/dist-packages (from matplotlib) (1.2.1)\n",
            "Requirement already satisfied: cycler>=0.10 in /usr/local/lib/python3.10/dist-packages (from matplotlib) (0.12.1)\n",
            "Requirement already satisfied: fonttools>=4.22.0 in /usr/local/lib/python3.10/dist-packages (from matplotlib) (4.50.0)\n",
            "Requirement already satisfied: kiwisolver>=1.0.1 in /usr/local/lib/python3.10/dist-packages (from matplotlib) (1.4.5)\n",
            "Requirement already satisfied: numpy>=1.20 in /usr/local/lib/python3.10/dist-packages (from matplotlib) (1.25.2)\n",
            "Requirement already satisfied: packaging>=20.0 in /usr/local/lib/python3.10/dist-packages (from matplotlib) (24.0)\n",
            "Requirement already satisfied: pillow>=6.2.0 in /usr/local/lib/python3.10/dist-packages (from matplotlib) (9.4.0)\n",
            "Requirement already satisfied: pyparsing>=2.3.1 in /usr/local/lib/python3.10/dist-packages (from matplotlib) (3.1.2)\n",
            "Requirement already satisfied: python-dateutil>=2.7 in /usr/local/lib/python3.10/dist-packages (from matplotlib) (2.8.2)\n",
            "Requirement already satisfied: six>=1.5 in /usr/local/lib/python3.10/dist-packages (from python-dateutil>=2.7->matplotlib) (1.16.0)\n",
            "Collecting filterpy\n",
            "  Downloading filterpy-1.4.5.zip (177 kB)\n",
            "\u001b[2K     \u001b[90m━━━━━━━━━━━━━━━━━━━━━━━━━━━━━━━━━━━━━━━━\u001b[0m \u001b[32m178.0/178.0 kB\u001b[0m \u001b[31m2.2 MB/s\u001b[0m eta \u001b[36m0:00:00\u001b[0m\n",
            "\u001b[?25h  Preparing metadata (setup.py) ... \u001b[?25l\u001b[?25hdone\n",
            "Requirement already satisfied: numpy in /usr/local/lib/python3.10/dist-packages (from filterpy) (1.25.2)\n",
            "Requirement already satisfied: scipy in /usr/local/lib/python3.10/dist-packages (from filterpy) (1.11.4)\n",
            "Requirement already satisfied: matplotlib in /usr/local/lib/python3.10/dist-packages (from filterpy) (3.7.1)\n",
            "Requirement already satisfied: contourpy>=1.0.1 in /usr/local/lib/python3.10/dist-packages (from matplotlib->filterpy) (1.2.1)\n",
            "Requirement already satisfied: cycler>=0.10 in /usr/local/lib/python3.10/dist-packages (from matplotlib->filterpy) (0.12.1)\n",
            "Requirement already satisfied: fonttools>=4.22.0 in /usr/local/lib/python3.10/dist-packages (from matplotlib->filterpy) (4.50.0)\n",
            "Requirement already satisfied: kiwisolver>=1.0.1 in /usr/local/lib/python3.10/dist-packages (from matplotlib->filterpy) (1.4.5)\n",
            "Requirement already satisfied: packaging>=20.0 in /usr/local/lib/python3.10/dist-packages (from matplotlib->filterpy) (24.0)\n",
            "Requirement already satisfied: pillow>=6.2.0 in /usr/local/lib/python3.10/dist-packages (from matplotlib->filterpy) (9.4.0)\n",
            "Requirement already satisfied: pyparsing>=2.3.1 in /usr/local/lib/python3.10/dist-packages (from matplotlib->filterpy) (3.1.2)\n",
            "Requirement already satisfied: python-dateutil>=2.7 in /usr/local/lib/python3.10/dist-packages (from matplotlib->filterpy) (2.8.2)\n",
            "Requirement already satisfied: six>=1.5 in /usr/local/lib/python3.10/dist-packages (from python-dateutil>=2.7->matplotlib->filterpy) (1.16.0)\n",
            "Building wheels for collected packages: filterpy\n",
            "  Building wheel for filterpy (setup.py) ... \u001b[?25l\u001b[?25hdone\n",
            "  Created wheel for filterpy: filename=filterpy-1.4.5-py3-none-any.whl size=110458 sha256=aec55369b92be9ee1a452fc2a6d5de3313359f2c416177e8ef8125c4e688a5fc\n",
            "  Stored in directory: /root/.cache/pip/wheels/0f/0c/ea/218f266af4ad626897562199fbbcba521b8497303200186102\n",
            "Successfully built filterpy\n",
            "Installing collected packages: filterpy\n",
            "Successfully installed filterpy-1.4.5\n"
          ]
        }
      ],
      "source": [
        "!pip install matplotlib\n",
        "!pip install filterpy\n"
      ]
    },
    {
      "cell_type": "code",
      "execution_count": null,
      "metadata": {
        "colab": {
          "base_uri": "https://localhost:8080/"
        },
        "id": "Diem-rkkeK1P",
        "outputId": "9d76aa1c-a370-4a60-9c6f-87bc152c9b96"
      },
      "outputs": [
        {
          "output_type": "stream",
          "name": "stdout",
          "text": [
            "[Errno 2] No such file or directory: '../model'\n",
            "/content/sort\n",
            "\u001b[0m\u001b[01;34mdata\u001b[0m/  LICENSE  README.md  requirements.txt  sort.py\n"
          ]
        }
      ],
      "source": [
        "%cd ../model\n",
        "%ls"
      ]
    },
    {
      "cell_type": "code",
      "execution_count": null,
      "metadata": {
        "colab": {
          "base_uri": "https://localhost:8080/"
        },
        "id": "9qldjydxm3bF",
        "outputId": "d512bb34-c861-4cf9-caed-401b6d4220c9"
      },
      "outputs": [
        {
          "output_type": "stream",
          "name": "stdout",
          "text": [
            "Collecting ultralytics\n",
            "  Downloading ultralytics-8.1.45-py3-none-any.whl (749 kB)\n",
            "\u001b[?25l     \u001b[90m━━━━━━━━━━━━━━━━━━━━━━━━━━━━━━━━━━━━━━━━\u001b[0m \u001b[32m0.0/749.6 kB\u001b[0m \u001b[31m?\u001b[0m eta \u001b[36m-:--:--\u001b[0m\r\u001b[2K     \u001b[91m━━━━━\u001b[0m\u001b[90m╺\u001b[0m\u001b[90m━━━━━━━━━━━━━━━━━━━━━━━━━━━━━━━━━━\u001b[0m \u001b[32m102.4/749.6 kB\u001b[0m \u001b[31m3.0 MB/s\u001b[0m eta \u001b[36m0:00:01\u001b[0m\r\u001b[2K     \u001b[91m━━━━━━━━━━━━━━━━━━━━━━━━━━━━━━━━\u001b[0m\u001b[91m╸\u001b[0m\u001b[90m━━━━━━━\u001b[0m \u001b[32m614.4/749.6 kB\u001b[0m \u001b[31m8.9 MB/s\u001b[0m eta \u001b[36m0:00:01\u001b[0m\r\u001b[2K     \u001b[90m━━━━━━━━━━━━━━━━━━━━━━━━━━━━━━━━━━━━━━━━\u001b[0m \u001b[32m749.6/749.6 kB\u001b[0m \u001b[31m8.5 MB/s\u001b[0m eta \u001b[36m0:00:00\u001b[0m\n",
            "\u001b[?25hRequirement already satisfied: matplotlib>=3.3.0 in /usr/local/lib/python3.10/dist-packages (from ultralytics) (3.7.1)\n",
            "Requirement already satisfied: opencv-python>=4.6.0 in /usr/local/lib/python3.10/dist-packages (from ultralytics) (4.8.0.76)\n",
            "Requirement already satisfied: pillow>=7.1.2 in /usr/local/lib/python3.10/dist-packages (from ultralytics) (9.4.0)\n",
            "Requirement already satisfied: pyyaml>=5.3.1 in /usr/local/lib/python3.10/dist-packages (from ultralytics) (6.0.1)\n",
            "Requirement already satisfied: requests>=2.23.0 in /usr/local/lib/python3.10/dist-packages (from ultralytics) (2.31.0)\n",
            "Requirement already satisfied: scipy>=1.4.1 in /usr/local/lib/python3.10/dist-packages (from ultralytics) (1.11.4)\n",
            "Requirement already satisfied: torch>=1.8.0 in /usr/local/lib/python3.10/dist-packages (from ultralytics) (2.2.1+cu121)\n",
            "Requirement already satisfied: torchvision>=0.9.0 in /usr/local/lib/python3.10/dist-packages (from ultralytics) (0.17.1+cu121)\n",
            "Requirement already satisfied: tqdm>=4.64.0 in /usr/local/lib/python3.10/dist-packages (from ultralytics) (4.66.2)\n",
            "Requirement already satisfied: psutil in /usr/local/lib/python3.10/dist-packages (from ultralytics) (5.9.5)\n",
            "Requirement already satisfied: py-cpuinfo in /usr/local/lib/python3.10/dist-packages (from ultralytics) (9.0.0)\n",
            "Collecting thop>=0.1.1 (from ultralytics)\n",
            "  Downloading thop-0.1.1.post2209072238-py3-none-any.whl (15 kB)\n",
            "Requirement already satisfied: pandas>=1.1.4 in /usr/local/lib/python3.10/dist-packages (from ultralytics) (2.0.3)\n",
            "Requirement already satisfied: seaborn>=0.11.0 in /usr/local/lib/python3.10/dist-packages (from ultralytics) (0.13.1)\n",
            "Requirement already satisfied: contourpy>=1.0.1 in /usr/local/lib/python3.10/dist-packages (from matplotlib>=3.3.0->ultralytics) (1.2.1)\n",
            "Requirement already satisfied: cycler>=0.10 in /usr/local/lib/python3.10/dist-packages (from matplotlib>=3.3.0->ultralytics) (0.12.1)\n",
            "Requirement already satisfied: fonttools>=4.22.0 in /usr/local/lib/python3.10/dist-packages (from matplotlib>=3.3.0->ultralytics) (4.50.0)\n",
            "Requirement already satisfied: kiwisolver>=1.0.1 in /usr/local/lib/python3.10/dist-packages (from matplotlib>=3.3.0->ultralytics) (1.4.5)\n",
            "Requirement already satisfied: numpy>=1.20 in /usr/local/lib/python3.10/dist-packages (from matplotlib>=3.3.0->ultralytics) (1.25.2)\n",
            "Requirement already satisfied: packaging>=20.0 in /usr/local/lib/python3.10/dist-packages (from matplotlib>=3.3.0->ultralytics) (24.0)\n",
            "Requirement already satisfied: pyparsing>=2.3.1 in /usr/local/lib/python3.10/dist-packages (from matplotlib>=3.3.0->ultralytics) (3.1.2)\n",
            "Requirement already satisfied: python-dateutil>=2.7 in /usr/local/lib/python3.10/dist-packages (from matplotlib>=3.3.0->ultralytics) (2.8.2)\n",
            "Requirement already satisfied: pytz>=2020.1 in /usr/local/lib/python3.10/dist-packages (from pandas>=1.1.4->ultralytics) (2023.4)\n",
            "Requirement already satisfied: tzdata>=2022.1 in /usr/local/lib/python3.10/dist-packages (from pandas>=1.1.4->ultralytics) (2024.1)\n",
            "Requirement already satisfied: charset-normalizer<4,>=2 in /usr/local/lib/python3.10/dist-packages (from requests>=2.23.0->ultralytics) (3.3.2)\n",
            "Requirement already satisfied: idna<4,>=2.5 in /usr/local/lib/python3.10/dist-packages (from requests>=2.23.0->ultralytics) (3.6)\n",
            "Requirement already satisfied: urllib3<3,>=1.21.1 in /usr/local/lib/python3.10/dist-packages (from requests>=2.23.0->ultralytics) (2.0.7)\n",
            "Requirement already satisfied: certifi>=2017.4.17 in /usr/local/lib/python3.10/dist-packages (from requests>=2.23.0->ultralytics) (2024.2.2)\n",
            "Requirement already satisfied: filelock in /usr/local/lib/python3.10/dist-packages (from torch>=1.8.0->ultralytics) (3.13.3)\n",
            "Requirement already satisfied: typing-extensions>=4.8.0 in /usr/local/lib/python3.10/dist-packages (from torch>=1.8.0->ultralytics) (4.10.0)\n",
            "Requirement already satisfied: sympy in /usr/local/lib/python3.10/dist-packages (from torch>=1.8.0->ultralytics) (1.12)\n",
            "Requirement already satisfied: networkx in /usr/local/lib/python3.10/dist-packages (from torch>=1.8.0->ultralytics) (3.2.1)\n",
            "Requirement already satisfied: jinja2 in /usr/local/lib/python3.10/dist-packages (from torch>=1.8.0->ultralytics) (3.1.3)\n",
            "Requirement already satisfied: fsspec in /usr/local/lib/python3.10/dist-packages (from torch>=1.8.0->ultralytics) (2023.6.0)\n",
            "Collecting nvidia-cuda-nvrtc-cu12==12.1.105 (from torch>=1.8.0->ultralytics)\n",
            "  Using cached nvidia_cuda_nvrtc_cu12-12.1.105-py3-none-manylinux1_x86_64.whl (23.7 MB)\n",
            "Collecting nvidia-cuda-runtime-cu12==12.1.105 (from torch>=1.8.0->ultralytics)\n",
            "  Using cached nvidia_cuda_runtime_cu12-12.1.105-py3-none-manylinux1_x86_64.whl (823 kB)\n",
            "Collecting nvidia-cuda-cupti-cu12==12.1.105 (from torch>=1.8.0->ultralytics)\n",
            "  Using cached nvidia_cuda_cupti_cu12-12.1.105-py3-none-manylinux1_x86_64.whl (14.1 MB)\n",
            "Collecting nvidia-cudnn-cu12==8.9.2.26 (from torch>=1.8.0->ultralytics)\n",
            "  Using cached nvidia_cudnn_cu12-8.9.2.26-py3-none-manylinux1_x86_64.whl (731.7 MB)\n",
            "Collecting nvidia-cublas-cu12==12.1.3.1 (from torch>=1.8.0->ultralytics)\n",
            "  Using cached nvidia_cublas_cu12-12.1.3.1-py3-none-manylinux1_x86_64.whl (410.6 MB)\n",
            "Collecting nvidia-cufft-cu12==11.0.2.54 (from torch>=1.8.0->ultralytics)\n",
            "  Using cached nvidia_cufft_cu12-11.0.2.54-py3-none-manylinux1_x86_64.whl (121.6 MB)\n",
            "Collecting nvidia-curand-cu12==10.3.2.106 (from torch>=1.8.0->ultralytics)\n",
            "  Using cached nvidia_curand_cu12-10.3.2.106-py3-none-manylinux1_x86_64.whl (56.5 MB)\n",
            "Collecting nvidia-cusolver-cu12==11.4.5.107 (from torch>=1.8.0->ultralytics)\n",
            "  Using cached nvidia_cusolver_cu12-11.4.5.107-py3-none-manylinux1_x86_64.whl (124.2 MB)\n",
            "Collecting nvidia-cusparse-cu12==12.1.0.106 (from torch>=1.8.0->ultralytics)\n",
            "  Using cached nvidia_cusparse_cu12-12.1.0.106-py3-none-manylinux1_x86_64.whl (196.0 MB)\n",
            "Collecting nvidia-nccl-cu12==2.19.3 (from torch>=1.8.0->ultralytics)\n",
            "  Using cached nvidia_nccl_cu12-2.19.3-py3-none-manylinux1_x86_64.whl (166.0 MB)\n",
            "Collecting nvidia-nvtx-cu12==12.1.105 (from torch>=1.8.0->ultralytics)\n",
            "  Using cached nvidia_nvtx_cu12-12.1.105-py3-none-manylinux1_x86_64.whl (99 kB)\n",
            "Requirement already satisfied: triton==2.2.0 in /usr/local/lib/python3.10/dist-packages (from torch>=1.8.0->ultralytics) (2.2.0)\n",
            "Collecting nvidia-nvjitlink-cu12 (from nvidia-cusolver-cu12==11.4.5.107->torch>=1.8.0->ultralytics)\n",
            "  Using cached nvidia_nvjitlink_cu12-12.4.127-py3-none-manylinux2014_x86_64.whl (21.1 MB)\n",
            "Requirement already satisfied: six>=1.5 in /usr/local/lib/python3.10/dist-packages (from python-dateutil>=2.7->matplotlib>=3.3.0->ultralytics) (1.16.0)\n",
            "Requirement already satisfied: MarkupSafe>=2.0 in /usr/local/lib/python3.10/dist-packages (from jinja2->torch>=1.8.0->ultralytics) (2.1.5)\n",
            "Requirement already satisfied: mpmath>=0.19 in /usr/local/lib/python3.10/dist-packages (from sympy->torch>=1.8.0->ultralytics) (1.3.0)\n",
            "Installing collected packages: nvidia-nvtx-cu12, nvidia-nvjitlink-cu12, nvidia-nccl-cu12, nvidia-curand-cu12, nvidia-cufft-cu12, nvidia-cuda-runtime-cu12, nvidia-cuda-nvrtc-cu12, nvidia-cuda-cupti-cu12, nvidia-cublas-cu12, nvidia-cusparse-cu12, nvidia-cudnn-cu12, nvidia-cusolver-cu12, thop, ultralytics\n",
            "Successfully installed nvidia-cublas-cu12-12.1.3.1 nvidia-cuda-cupti-cu12-12.1.105 nvidia-cuda-nvrtc-cu12-12.1.105 nvidia-cuda-runtime-cu12-12.1.105 nvidia-cudnn-cu12-8.9.2.26 nvidia-cufft-cu12-11.0.2.54 nvidia-curand-cu12-10.3.2.106 nvidia-cusolver-cu12-11.4.5.107 nvidia-cusparse-cu12-12.1.0.106 nvidia-nccl-cu12-2.19.3 nvidia-nvjitlink-cu12-12.4.127 nvidia-nvtx-cu12-12.1.105 thop-0.1.1.post2209072238 ultralytics-8.1.45\n"
          ]
        }
      ],
      "source": [
        "!pip install ultralytics\n",
        "\n",
        "from ultralytics import YOLO"
      ]
    },
    {
      "cell_type": "code",
      "execution_count": null,
      "metadata": {
        "id": "k6sFawknqZqm",
        "colab": {
          "base_uri": "https://localhost:8080/"
        },
        "outputId": "b017f374-52e9-447d-a1ed-945f304af206"
      },
      "outputs": [
        {
          "output_type": "stream",
          "name": "stdout",
          "text": [
            "Mounted at /content/drive\n"
          ]
        }
      ],
      "source": [
        "from google.colab import drive\n",
        "drive.mount('/content/drive')"
      ]
    },
    {
      "cell_type": "code",
      "execution_count": null,
      "metadata": {
        "id": "BCWTR2ZWsL7r",
        "colab": {
          "base_uri": "https://localhost:8080/"
        },
        "outputId": "119ad769-6730-4a45-d150-dc1ddee1832f"
      },
      "outputs": [
        {
          "output_type": "stream",
          "name": "stdout",
          "text": [
            "/content\n"
          ]
        }
      ],
      "source": [
        "cd .."
      ]
    },
    {
      "cell_type": "code",
      "execution_count": null,
      "metadata": {
        "id": "_MCKziQ_scFL",
        "colab": {
          "base_uri": "https://localhost:8080/"
        },
        "outputId": "3b281818-9e56-4583-e067-f4806c69f720"
      },
      "outputs": [
        {
          "output_type": "stream",
          "name": "stdout",
          "text": [
            "Collecting cvzone\n",
            "  Downloading cvzone-1.6.1.tar.gz (25 kB)\n",
            "  Preparing metadata (setup.py) ... \u001b[?25l\u001b[?25hdone\n",
            "Requirement already satisfied: opencv-python in /usr/local/lib/python3.10/dist-packages (from cvzone) (4.8.0.76)\n",
            "Requirement already satisfied: numpy in /usr/local/lib/python3.10/dist-packages (from cvzone) (1.25.2)\n",
            "Building wheels for collected packages: cvzone\n",
            "  Building wheel for cvzone (setup.py) ... \u001b[?25l\u001b[?25hdone\n",
            "  Created wheel for cvzone: filename=cvzone-1.6.1-py3-none-any.whl size=26297 sha256=45ae394f13f23e8a683c6f9f6c3fc6fe63dc230035e38402cfa5d4aa37dfb211\n",
            "  Stored in directory: /root/.cache/pip/wheels/2c/9f/b3/92e945ac4a71bf727a92463f38155cc5a4fa49c5010b38ec4c\n",
            "Successfully built cvzone\n",
            "Installing collected packages: cvzone\n",
            "Successfully installed cvzone-1.6.1\n"
          ]
        }
      ],
      "source": [
        "!pip install cvzone"
      ]
    },
    {
      "cell_type": "code",
      "execution_count": null,
      "metadata": {
        "id": "P6bNMNqDtSrK",
        "colab": {
          "base_uri": "https://localhost:8080/"
        },
        "outputId": "f727e100-3645-4fd6-f444-6729992a2446"
      },
      "outputs": [
        {
          "output_type": "stream",
          "name": "stdout",
          "text": [
            "Lines commented out successfully.\n"
          ]
        }
      ],
      "source": [
        "# Comment the matplotlib because of errors\n",
        "\n",
        "with open('/content/sort/sort.py', 'r') as file:\n",
        "    content = file.readlines()\n",
        "\n",
        "# Comment out lines 23, 24, and 25\n",
        "content[22] = '# ' + content[22]\n",
        "content[23] = '# ' + content[23]\n",
        "content[24] = '# ' + content[24]\n",
        "\n",
        "# Write the modified content back to the file\n",
        "with open('/content/sort/sort.py', 'w') as file:\n",
        "    file.writelines(content)\n",
        "\n",
        "print(\"Lines commented out successfully.\")"
      ]
    },
    {
      "cell_type": "code",
      "execution_count": null,
      "metadata": {
        "id": "dyTW2KtwUhW8",
        "colab": {
          "base_uri": "https://localhost:8080/"
        },
        "outputId": "2d3b9467-b32f-4db5-d10b-9d4c8492c913"
      },
      "outputs": [
        {
          "output_type": "stream",
          "name": "stdout",
          "text": [
            "/content/sort\n"
          ]
        }
      ],
      "source": [
        "cd sort"
      ]
    },
    {
      "cell_type": "code",
      "source": [
        "model = YOLO('../drive/MyDrive/hand detector/blurred actual 22 to 45 model.pt')\n",
        "#"
      ],
      "metadata": {
        "id": "8YN6-smKHOIk"
      },
      "execution_count": null,
      "outputs": []
    },
    {
      "cell_type": "code",
      "execution_count": null,
      "metadata": {
        "id": "johU2xBDIlnW"
      },
      "outputs": [],
      "source": [
        "import cv2\n",
        "import cvzone\n",
        "import time\n",
        "import math\n",
        "from google.colab.patches import cv2_imshow\n",
        "\n",
        "import pandas as pd\n",
        "import os\n",
        "\n",
        "def detect_objects_and_save_to_excel(video_path, model):\n",
        "    # Open video file\n",
        "    cap = cv2.VideoCapture(video_path)\n",
        "\n",
        "    # Initialize list to store detection information\n",
        "    detections = {\n",
        "        \"frame\": [],\n",
        "        \"x1\": [],\n",
        "        \"y1\": [],\n",
        "        \"x2\": [],\n",
        "        \"y2\": [],\n",
        "        \"conf\": [],\n",
        "        \"class\": []\n",
        "    }\n",
        "\n",
        "    frame_count = 0\n",
        "\n",
        "    # Loop through video frames\n",
        "    while cap.isOpened():\n",
        "        success, frame = cap.read()\n",
        "\n",
        "        if success:\n",
        "            frame_count += 1\n",
        "\n",
        "            #cv2_imshow(frame)\n",
        "            # Perform object detection using YOLO model\n",
        "            results = model(frame, stream=True, verbose=False)\n",
        "            for res in results:\n",
        "                boxes = res.boxes\n",
        "                for box in boxes:\n",
        "                    x1, y1, x2, y2 = box.xyxy[0].tolist()\n",
        "                    x1, y1, x2, y2 = int(x1), int(y1), int(x2), int(y2)\n",
        "                    conf = float(box.conf[0])\n",
        "                    cls = int(box.cls[0])\n",
        "\n",
        "                    # Store detection information\n",
        "                    detections[\"frame\"].append(frame_count)\n",
        "                    detections[\"x1\"].append(x1)\n",
        "                    detections[\"y1\"].append(y1)\n",
        "                    detections[\"x2\"].append(x2)\n",
        "                    detections[\"y2\"].append(y2)\n",
        "                    detections[\"conf\"].append(conf)\n",
        "                    detections[\"class\"].append(cls)\n",
        "        else:\n",
        "            break\n",
        "\n",
        "    # Release video capture\n",
        "    cap.release()\n",
        "\n",
        "    # Create DataFrame from detections\n",
        "    detections_df = pd.DataFrame(detections)\n",
        "\n",
        "    # Modify video path to get output Excel path\n",
        "    output_excel_path = os.path.splitext(video_path)[0] + \".xlsx\"\n",
        "\n",
        "    # Save DataFrame to Excel file\n",
        "    detections_df.to_excel(output_excel_path, index=False)\n",
        "\n",
        "\n",
        "\n",
        "\n",
        "\n"
      ]
    },
    {
      "cell_type": "code",
      "source": [
        "# detect_objects_and_save_to_excel('../drive/MyDrive/hand detector/vids/nonwave26.mp4', model)\n",
        "# detect_objects_and_save_to_excel('../drive/MyDrive/hand detector/vids/nonwave27.mp4', model)\n",
        "# detect_objects_and_save_to_excel('../drive/MyDrive/hand detector/vids/wave5.mp4', model)\n",
        "# detect_objects_and_save_to_excel('../drive/MyDrive/hand detector/vids/wave7.mp4', model)\n",
        "# detect_objects_and_save_to_excel('../drive/MyDrive/hand detector/vids/wave9.mp4', model)\n",
        "# detect_objects_and_save_to_excel('../drive/MyDrive/hand detector/vids/wave13.mp4', model)\n",
        "# detect_objects_and_save_to_excel('../drive/MyDrive/hand detector/vids/wave15.mp4', model)\n",
        "# detect_objects_and_save_to_excel('../drive/MyDrive/hand detector/vids/wave27.mp4', model)\n",
        "# detect_objects_and_save_to_excel('../drive/MyDrive/hand detector/vids/wave28.mp4', model)"
      ],
      "metadata": {
        "id": "qy88sViU-qxy"
      },
      "execution_count": null,
      "outputs": []
    },
    {
      "cell_type": "code",
      "source": [
        "# # Loop through each wave video from 1 to 10\n",
        "# for i in range(12, 21):\n",
        "#     # Construct the video file path\n",
        "#     video_path = os.path.join(base_dir, f'wave{i}.mov')\n",
        "\n",
        "#     detect_objects_and_save_to_excel(video_path, model)\n",
        "#     print(video_path + \"completed\")\n",
        "\n",
        "# for i in range(11, 22):\n",
        "#     # Construct the video file path\n",
        "#     video_path = os.path.join(base_dir, f'nonwave{i}.mov')\n",
        "\n",
        "#     detect_objects_and_save_to_excel(video_path, model)\n",
        "#     print(video_path + \"completed\")\n"
      ],
      "metadata": {
        "id": "sGdof-zbkAAS",
        "colab": {
          "base_uri": "https://localhost:8080/"
        },
        "outputId": "e486c0ea-797b-48cf-b5d4-64648859d93e"
      },
      "execution_count": null,
      "outputs": [
        {
          "output_type": "stream",
          "name": "stdout",
          "text": [
            "../drive/MyDrive/hand detector/vids/office/wave12.movcompleted\n",
            "../drive/MyDrive/hand detector/vids/office/wave13.movcompleted\n",
            "../drive/MyDrive/hand detector/vids/office/wave14.movcompleted\n",
            "../drive/MyDrive/hand detector/vids/office/wave15.movcompleted\n",
            "../drive/MyDrive/hand detector/vids/office/wave16.movcompleted\n",
            "../drive/MyDrive/hand detector/vids/office/wave17.movcompleted\n",
            "../drive/MyDrive/hand detector/vids/office/wave18.movcompleted\n",
            "../drive/MyDrive/hand detector/vids/office/wave19.movcompleted\n",
            "../drive/MyDrive/hand detector/vids/office/wave20.movcompleted\n",
            "../drive/MyDrive/hand detector/vids/office/nonwave11.movcompleted\n",
            "../drive/MyDrive/hand detector/vids/office/nonwave12.movcompleted\n",
            "../drive/MyDrive/hand detector/vids/office/nonwave13.movcompleted\n",
            "../drive/MyDrive/hand detector/vids/office/nonwave14.movcompleted\n",
            "../drive/MyDrive/hand detector/vids/office/nonwave15.movcompleted\n",
            "../drive/MyDrive/hand detector/vids/office/nonwave16.movcompleted\n",
            "../drive/MyDrive/hand detector/vids/office/nonwave17.movcompleted\n",
            "../drive/MyDrive/hand detector/vids/office/nonwave18.movcompleted\n",
            "../drive/MyDrive/hand detector/vids/office/nonwave19.movcompleted\n",
            "../drive/MyDrive/hand detector/vids/office/nonwave20.movcompleted\n",
            "../drive/MyDrive/hand detector/vids/office/nonwave21.movcompleted\n"
          ]
        }
      ]
    },
    {
      "cell_type": "code",
      "source": [],
      "metadata": {
        "id": "XGmu6482lp5M"
      },
      "execution_count": null,
      "outputs": []
    },
    {
      "cell_type": "code",
      "source": [
        "import cv2\n",
        "import cvzone\n",
        "import time\n",
        "import math\n",
        "from sort import *\n",
        "import pandas as pd\n",
        "\n",
        "def track_and_save(video_path, detections_table):\n",
        "    # Initialize SORT tracker\n",
        "    mot_tracker = Sort(min_hits=2, max_age=60,iou_threshold=0.00001) #\n",
        "\n",
        "    # Open the video file\n",
        "    cap = cv2.VideoCapture(video_path)\n",
        "\n",
        "    width = int(cap.get(cv2.CAP_PROP_FRAME_WIDTH))\n",
        "    height = int(cap.get(cv2.CAP_PROP_FRAME_HEIGHT))\n",
        "    fps = int(cap.get(cv2.CAP_PROP_FPS))\n",
        "\n",
        "    fourcc = cv2.VideoWriter_fourcc(*'MP4V')\n",
        "    output_video = cv2.VideoWriter('outputVideo.mp4', fourcc, fps, (width, height))\n",
        "    total_frames = int(cap.get(cv2.CAP_PROP_FRAME_COUNT))\n",
        "\n",
        "    # Initialize dictionary to store tracking information\n",
        "    tracks = {\n",
        "        \"frame\": [],\n",
        "        \"id\": [],\n",
        "        \"x1\": [],\n",
        "        \"y1\": [],\n",
        "        \"x2\": [],\n",
        "        \"y2\": [],\n",
        "        \"class\": []\n",
        "    }\n",
        "\n",
        "    # Initialize variables\n",
        "    id_count = {}  # Dictionary to keep track of unique IDs and their count\n",
        "    frame_count = 0  # Counter to keep track of frame number\n",
        "\n",
        "    # Read detections table\n",
        "    detections_df = pd.read_excel(detections_table)\n",
        "\n",
        "    # Loop through the video frames\n",
        "    while cap.isOpened():\n",
        "        success, frame = cap.read()  # Read a frame from the video\n",
        "\n",
        "        if success:\n",
        "            # Get detections for the current frame\n",
        "            detections = np.array(detections_df[detections_df[\"frame\"] == frame_count].drop(columns=['frame']))\n",
        "            detections = detections[ (detections[:, 4] >= 0.5) ]\n",
        "            if len(detections):\n",
        "                track_bbs_ids = mot_tracker.update(detections)  # Update the tracker with detections\n",
        "            else:\n",
        "                track_bbs_ids = mot_tracker.update(np.empty((0, 5)))  # If no detections, update with empty array\n",
        "\n",
        "            # Draw bounding boxes for detections\n",
        "            for j in range(len(detections.tolist())):\n",
        "                coords = detections.tolist()[j]\n",
        "                x1, y1, x2, y2 = int(coords[0]), int(coords[1]), int(coords[2]), int(coords[3])\n",
        "                color = [0, 255, 0]  # Green color\n",
        "\n",
        "                name_cls = 'CLS : {}'.format(str(int(coords[-1])))\n",
        "\n",
        "                cv2.rectangle(frame, (x1, y1), (x2, y2), color, 2)\n",
        "                cv2.putText(frame, name_cls, (x1, y1), cv2.FONT_HERSHEY_SIMPLEX, 1, (0, 255, 0), 2, cv2.LINE_AA)  # Add label\n",
        "\n",
        "                #tracks['score'].append(coords[-2])\n",
        "\n",
        "\n",
        "            # Draw bounding boxes with IDs for tracked objects\n",
        "            for j in range(len(track_bbs_ids.tolist())):\n",
        "                coords = track_bbs_ids.tolist()[j]\n",
        "                x1, y1, x2, y2 = int(coords[0]), int(coords[1]), int(coords[2]), int(coords[3])\n",
        "\n",
        "                # Get the ID of the object\n",
        "                id_ = int(coords[-1])\n",
        "                if id_ not in id_count:\n",
        "                    id_count[id_] = 1  # Add new ID to dictionary if not already present\n",
        "                else:\n",
        "                    id_count[id_] += 1  # Increment count if ID is already present\n",
        "\n",
        "                # Create label with class and ID\n",
        "                name_id = 'ID : {}'.format(str(int(coords[-1])))\n",
        "\n",
        "                color = [0, 0, 255]  # Red color\n",
        "                cv2.rectangle(frame, (x1, y1), (x2, y2), color, 2)  # Draw rectangle around object\n",
        "                cv2.putText(frame, name_id, (x2, y2), cv2.FONT_HERSHEY_SIMPLEX, 1, (255, 0, 0), 2, cv2.LINE_AA)  # Add label\n",
        "\n",
        "                # Save tracking information to dictionary\n",
        "                tracks['frame'].append(frame_count)\n",
        "                tracks['id'].append(id_)\n",
        "                tracks['x1'].append(x1)\n",
        "                tracks['y1'].append(y1)\n",
        "                tracks['x2'].append(x2)\n",
        "                tracks['y2'].append(y2)\n",
        "                tracks['class'].append(int(detections.tolist()[j][-1]))\n",
        "\n",
        "            # Write annotated frame to output video\n",
        "            output_video.write(frame)\n",
        "            frame_count += 1  # Increment frame counter\n",
        "        else:\n",
        "            # Break the loop if the end of the video is reached\n",
        "            break\n",
        "\n",
        "    # Save tracking results to Excel\n",
        "    tracks_df = pd.DataFrame(tracks)\n",
        "    tracks_df.to_excel(video_path[:-4] + \"_SORT.xlsx\", index=False)\n",
        "\n",
        "    # Release video capture and writer\n",
        "    output_video.release()\n",
        "    cap.release()\n",
        "\n",
        "    # Convert id_count dictionary to list of tuples\n",
        "    id_list = [(id_, count,total_frames) for id_, count in id_count.items()]\n",
        "\n",
        "    return id_list\n",
        "\n",
        "\n"
      ],
      "metadata": {
        "id": "klcuKjiIBrtq"
      },
      "execution_count": null,
      "outputs": []
    },
    {
      "cell_type": "code",
      "source": [
        "# # detect_objects_and_save_to_excel('../drive/MyDrive/hand detector/vids/nonwave26.mp4', model)\n",
        "# # detect_objects_and_save_to_excel('../drive/MyDrive/hand detector/vids/nonwave27.mp4', model)\n",
        "# # detect_objects_and_save_to_excel('../drive/MyDrive/hand detector/vids/wave5.mp4', model)\n",
        "# # detect_objects_and_save_to_excel('../drive/MyDrive/hand detector/vids/wave7.mp4', model)\n",
        "# # detect_objects_and_save_to_excel('../drive/MyDrive/hand detector/vids/wave9.mp4', model)\n",
        "# # detect_objects_and_save_to_excel('../drive/MyDrive/hand detector/vids/wave13.mp4', model)\n",
        "# # detect_objects_and_save_to_excel('../drive/MyDrive/hand detector/vids/wave15 .mp4', model)\n",
        "# # detect_objects_and_save_to_excel('../drive/MyDrive/hand detector/vids/wave27 .mp4', model)\n",
        "# # detect_objects_and_save_to_excel('../drive/MyDrive/hand detector/vids/wave28 .mp4', model)\n",
        "\n",
        "# video_path = f\"../drive/MyDrive/hand detector/vids/wave28.mp4\"\n",
        "# detections_table = f\"../drive/MyDrive/hand detector/vids/wave28.xlsx\"\n",
        "# ids_list = track_and_save(video_path, detections_table)\n",
        "# print(video_path)\n",
        "# print(ids_list)\n",
        "\n"
      ],
      "metadata": {
        "colab": {
          "base_uri": "https://localhost:8080/"
        },
        "id": "5cK-C6ZX2-wW",
        "outputId": "cf2c4021-5c7a-45eb-c2aa-04177025f09b"
      },
      "execution_count": null,
      "outputs": [
        {
          "output_type": "stream",
          "name": "stdout",
          "text": [
            "../drive/MyDrive/hand detector/vids/wave28.mp4\n",
            "[(159, 98, 148)]\n"
          ]
        }
      ]
    },
    {
      "cell_type": "code",
      "source": [
        "# for i in range(12,21):\n",
        "#     video_path = f\"../drive/MyDrive/hand detector/vids/office/wave{i}.mov\"\n",
        "#     detections_table = f\"../drive/MyDrive/hand detector/vids/office/wave{i}.xlsx\"\n",
        "#     ids_list = track_and_save(video_path, detections_table)\n",
        "#     print(video_path)\n",
        "#     print(ids_list)\n",
        "\n",
        "\n",
        "# for i in range(11, 22):\n",
        "#     video_path = f\"../drive/MyDrive/hand detector/vids/office/nonwave{i}.mov\"\n",
        "#     detections_table = f\"../drive/MyDrive/hand detector/vids/office/nonwave{i}.xlsx\"\n",
        "#     ids_list = track_and_save(video_path, detections_table)\n",
        "#     print(video_path)\n",
        "#     print(ids_list)\n"
      ],
      "metadata": {
        "id": "KVW9oVuzqpzC",
        "colab": {
          "base_uri": "https://localhost:8080/"
        },
        "outputId": "e147ade0-23fa-495d-ec4f-12791d2c5c63"
      },
      "execution_count": null,
      "outputs": [
        {
          "output_type": "stream",
          "name": "stdout",
          "text": [
            "../drive/MyDrive/hand detector/vids/office/wave12.mov\n",
            "[(161, 153, 155), (160, 147, 155)]\n",
            "../drive/MyDrive/hand detector/vids/office/wave13.mov\n",
            "[(162, 285, 295)]\n",
            "../drive/MyDrive/hand detector/vids/office/wave14.mov\n",
            "[(163, 199, 201)]\n",
            "../drive/MyDrive/hand detector/vids/office/wave15.mov\n",
            "[(165, 112, 155), (166, 4, 155), (167, 8, 155)]\n",
            "../drive/MyDrive/hand detector/vids/office/wave16.mov\n",
            "[]\n",
            "../drive/MyDrive/hand detector/vids/office/wave17.mov\n",
            "[(168, 41, 189), (169, 55, 189)]\n",
            "../drive/MyDrive/hand detector/vids/office/wave18.mov\n",
            "[(170, 16, 441), (171, 50, 441), (172, 7, 441), (173, 46, 441), (174, 15, 441), (175, 22, 441), (176, 2, 441), (177, 64, 441), (178, 15, 441), (179, 1, 441), (180, 105, 441), (181, 15, 441), (182, 3, 441), (183, 1, 441)]\n",
            "../drive/MyDrive/hand detector/vids/office/wave19.mov\n",
            "[(184, 145, 221), (185, 10, 221)]\n",
            "../drive/MyDrive/hand detector/vids/office/wave20.mov\n",
            "[(188, 46, 141), (187, 80, 141)]\n",
            "../drive/MyDrive/hand detector/vids/office/nonwave11.mov\n",
            "[(190, 175, 177), (191, 11, 177), (192, 97, 177), (193, 8, 177)]\n",
            "../drive/MyDrive/hand detector/vids/office/nonwave12.mov\n",
            "[(195, 125, 225), (194, 142, 225)]\n",
            "../drive/MyDrive/hand detector/vids/office/nonwave13.mov\n",
            "[(197, 49, 261), (198, 189, 261), (199, 1, 261), (200, 2, 261)]\n",
            "../drive/MyDrive/hand detector/vids/office/nonwave14.mov\n",
            "[(201, 302, 315)]\n",
            "../drive/MyDrive/hand detector/vids/office/nonwave15.mov\n",
            "[]\n",
            "../drive/MyDrive/hand detector/vids/office/nonwave16.mov\n",
            "[(202, 220, 325)]\n",
            "../drive/MyDrive/hand detector/vids/office/nonwave17.mov\n",
            "[(204, 215, 217)]\n",
            "../drive/MyDrive/hand detector/vids/office/nonwave18.mov\n",
            "[(205, 199, 201)]\n",
            "../drive/MyDrive/hand detector/vids/office/nonwave19.mov\n",
            "[(206, 4, 187), (207, 1, 187), (208, 5, 187)]\n",
            "../drive/MyDrive/hand detector/vids/office/nonwave20.mov\n",
            "[(209, 7, 169), (210, 73, 169), (211, 37, 169)]\n",
            "../drive/MyDrive/hand detector/vids/office/nonwave21.mov\n",
            "[(213, 7, 359), (212, 58, 359), (214, 15, 359), (215, 99, 359), (216, 80, 359)]\n"
          ]
        }
      ]
    },
    {
      "cell_type": "code",
      "source": [
        "# video_path = f\"../drive/MyDrive/hand detector/vids/office/nonwave20.mov\"\n",
        "# detections_table = f\"../drive/MyDrive/hand detector/vids/office/nonwave20.xlsx\"\n",
        "# ids_list = track_and_save(video_path, detections_table)\n",
        "# print(video_path)\n",
        "# print(ids_list)\n",
        "\n"
      ],
      "metadata": {
        "colab": {
          "base_uri": "https://localhost:8080/"
        },
        "id": "8T5BCRTsXWWA",
        "outputId": "e7fe78e8-ca76-4029-cd87-46e00d5d9da0"
      },
      "execution_count": null,
      "outputs": [
        {
          "output_type": "stream",
          "name": "stdout",
          "text": [
            "../drive/MyDrive/hand detector/vids/office/nonwave20.mov\n",
            "[(251, 7, 169), (252, 73, 169), (253, 37, 169)]\n"
          ]
        }
      ]
    },
    {
      "cell_type": "markdown",
      "source": [],
      "metadata": {
        "id": "DsmAUiZrNgj7"
      }
    }
  ],
  "metadata": {
    "colab": {
      "provenance": []
    },
    "kernelspec": {
      "display_name": "Python 3",
      "name": "python3"
    },
    "language_info": {
      "name": "python"
    }
  },
  "nbformat": 4,
  "nbformat_minor": 0
}